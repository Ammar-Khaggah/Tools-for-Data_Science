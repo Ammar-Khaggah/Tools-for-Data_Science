{
 "cells": [
  {
   "cell_type": "markdown",
   "id": "4bb3edc0-8a84-417b-b5e9-080a782910a7",
   "metadata": {},
   "source": [
    "# Data Science Tools and Ecosystem"
   ]
  },
  {
   "cell_type": "markdown",
   "id": "1735f74b-8edf-4cee-914e-dba5047eab36",
   "metadata": {},
   "source": [
    "In this notebook, Data Science Tools and Ecosystem are summarized"
   ]
  },
  {
   "cell_type": "markdown",
   "id": "d60104ae-8205-42ae-8dfa-a4fe0a98569b",
   "metadata": {},
   "source": [
    "**Objectives:**\n",
    "List popular languages for Data Science\n",
    "* Apache Subversion\n",
    "* Git\n",
    "* Github\n",
    "* Gitlab\n",
    "* BitBucket"
   ]
  },
  {
   "cell_type": "markdown",
   "id": "48c6eb53-9cab-46bd-9894-e15bf8b568ca",
   "metadata": {},
   "source": [
    "Some of the popular languages that Data Scientists use are:\n",
    "1. Python\n",
    "2. Java\n",
    "3. R\n",
    "4. Julia\n",
    "5. Scala\n",
    "6. SQL"
   ]
  },
  {
   "cell_type": "markdown",
   "id": "a5e598de-92ae-4e80-9b39-d18fc6d92ae3",
   "metadata": {},
   "source": [
    "Some of the commonly used libraries used by Data Scientists include:\n",
    "1. Pandas\n",
    "2. Numpy\n",
    "3. Matplotlib\n",
    "4. Seaborn\n",
    "5. Plotly"
   ]
  },
  {
   "cell_type": "markdown",
   "id": "b218079c-8979-48e3-9463-b5880e7d1feb",
   "metadata": {},
   "source": [
    "|Data Science Tools|\n",
    "|------------------|\n",
    "|My SQL|\n",
    "|Apache Air Flow|\n",
    "|Apeche Prediction|"
   ]
  },
  {
   "cell_type": "markdown",
   "id": "bed9a721-6a08-464a-87bc-2a621cc737c9",
   "metadata": {},
   "source": [
    "### Below are a few examples of evaluating arithmetic expressions in Python:\n",
    "1. Complex expressions (e.g., square roots, logarithms)\n",
    "2. Row-wise and conditional arithmetic\n",
    "3. Feature engineering using arithmetic\n",
    "4. Arithmetic on time series data\n",
    "5. Broadcasting with NumPy arrays"
   ]
  },
  {
   "cell_type": "code",
   "execution_count": 5,
   "id": "e06beca2-bdad-48f3-8ab0-95c838ad07e9",
   "metadata": {},
   "outputs": [
    {
     "data": {
      "text/plain": [
       "17"
      ]
     },
     "execution_count": 5,
     "metadata": {},
     "output_type": "execute_result"
    }
   ],
   "source": [
    "# This a simple arithmetic expression to mutiply then add integers\n",
    "(3*4)+5"
   ]
  },
  {
   "cell_type": "code",
   "execution_count": 6,
   "id": "c3e3532e-a793-4cc2-90b5-a4f7f876ebc6",
   "metadata": {},
   "outputs": [
    {
     "name": "stdout",
     "output_type": "stream",
     "text": [
      "200 minutes is equal to 3.3333333333333335 hours.\n"
     ]
    }
   ],
   "source": [
    "# This will convert 200 minutes to hours by diving by 60\n",
    "minutes = 200\n",
    "hours = minutes / 60\n",
    "print(f\"{minutes} minutes is equal to {hours} hours.\")"
   ]
  },
  {
   "cell_type": "markdown",
   "id": "a7c19f9f-a52a-4e0a-bd50-3982a63996ad",
   "metadata": {},
   "source": [
    "## Author\n",
    "Amar Quddus"
   ]
  },
  {
   "cell_type": "code",
   "execution_count": null,
   "id": "672bbc18-9991-4cfb-9022-3e5caf810d10",
   "metadata": {},
   "outputs": [],
   "source": []
  }
 ],
 "metadata": {
  "kernelspec": {
   "display_name": "Python 3 (ipykernel)",
   "language": "python",
   "name": "python3"
  },
  "language_info": {
   "codemirror_mode": {
    "name": "ipython",
    "version": 3
   },
   "file_extension": ".py",
   "mimetype": "text/x-python",
   "name": "python",
   "nbconvert_exporter": "python",
   "pygments_lexer": "ipython3",
   "version": "3.11.7"
  }
 },
 "nbformat": 4,
 "nbformat_minor": 5
}
